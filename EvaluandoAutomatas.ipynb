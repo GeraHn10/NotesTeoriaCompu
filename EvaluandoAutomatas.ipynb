{
  "nbformat": 4,
  "nbformat_minor": 0,
  "metadata": {
    "colab": {
      "name": "EvaluandoAutomatas.ipynb",
      "provenance": [],
      "authorship_tag": "ABX9TyMrr3CfIvuRbd1QMb9QZddj",
      "include_colab_link": true
    },
    "kernelspec": {
      "name": "python3",
      "display_name": "Python 3"
    }
  },
  "cells": [
    {
      "cell_type": "markdown",
      "metadata": {
        "id": "view-in-github",
        "colab_type": "text"
      },
      "source": [
        "<a href=\"https://colab.research.google.com/github/GeraHn10/NotesTeoriaCompu/blob/master/EvaluandoAutomatas.ipynb\" target=\"_parent\"><img src=\"https://colab.research.google.com/assets/colab-badge.svg\" alt=\"Open In Colab\"/></a>"
      ]
    },
    {
      "cell_type": "markdown",
      "metadata": {
        "id": "typp18QCDXAJ",
        "colab_type": "text"
      },
      "source": [
        "# Evaluando Automatas DFA"
      ]
    },
    {
      "cell_type": "code",
      "metadata": {
        "id": "xDEisAdbpFRF",
        "colab_type": "code",
        "colab": {
          "base_uri": "https://localhost:8080/",
          "height": 69
        },
        "outputId": "da6465d8-4a2f-4156-b54f-8f3e5521cd7f"
      },
      "source": [
        "def dfa_evaluate(alphabet, states, initial_state, accepting_states, transitions, str_test):\n",
        "  current_state = initial_state\n",
        "  \n",
        "  for char_index in range(len(str_test)):\n",
        "\n",
        "    try:\n",
        "      current_char = str_test[char_index]\n",
        "      next_state = transitions[(current_state, current_char)] \n",
        "      print (current_state, current_char, next_state)\n",
        "      current_state = next_state\n",
        "\n",
        "    except:\n",
        "      current_state = -1\n",
        "      break\n",
        "    \n",
        "  if current_state in accepting_states:\n",
        "    print (\"Pertenece a L(M)\")\n",
        "  else: \n",
        "    print (\"No pertenece a L(M)\")\n",
        "\n",
        "\n",
        "#debe contener la subcadena 01\n",
        "dfa = {\n",
        "    'alphabet': {'0', '1'},\n",
        "    'states': {'q0', 'q1', 'q2'},\n",
        "    'initial_state': 'q0',\n",
        "    'accepting_states': {'q2'},\n",
        "    'transitions': {\n",
        "        ('q0', '1'): 'q0',\n",
        "        ('q0', '0'): 'q1',\n",
        "        ('q1', '0'): 'q1',\n",
        "        ('q1', '1'): 'q2',\n",
        "        ('q2', '0'): 'q2',\n",
        "        ('q2', '1'): 'q2'       \n",
        "    }\n",
        "}\n",
        "\n",
        "alphabet = dfa['alphabet']\n",
        "states = dfa['states']\n",
        "initial_state = dfa['initial_state']\n",
        "accepting_states = dfa['accepting_states']\n",
        "transitions = dfa['transitions']\n",
        "\n",
        "str_test = \"10\"\n",
        "\n",
        "dfa_evaluate(alphabet, states, initial_state, accepting_states, transitions, str_test)"
      ],
      "execution_count": null,
      "outputs": [
        {
          "output_type": "stream",
          "text": [
            "q0 1 q0\n",
            "q0 0 q1\n",
            "No pertenece a L(M)\n"
          ],
          "name": "stdout"
        }
      ]
    },
    {
      "cell_type": "markdown",
      "metadata": {
        "id": "ozDmdidkDbil",
        "colab_type": "text"
      },
      "source": [
        "Evaluando Automatas NFA"
      ]
    }
  ]
}