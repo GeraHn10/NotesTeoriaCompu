{
  "nbformat": 4,
  "nbformat_minor": 0,
  "metadata": {
    "colab": {
      "name": "Semana4.ipynb",
      "provenance": [],
      "authorship_tag": "ABX9TyORz6Ydy3ASLCgyRvRfdRTz",
      "include_colab_link": true
    },
    "kernelspec": {
      "name": "python3",
      "display_name": "Python 3"
    }
  },
  "cells": [
    {
      "cell_type": "markdown",
      "metadata": {
        "id": "view-in-github",
        "colab_type": "text"
      },
      "source": [
        "<a href=\"https://colab.research.google.com/github/GeraHn10/NotesTeoriaCompu/blob/master/Semana4.ipynb\" target=\"_parent\"><img src=\"https://colab.research.google.com/assets/colab-badge.svg\" alt=\"Open In Colab\"/></a>"
      ]
    },
    {
      "cell_type": "markdown",
      "metadata": {
        "id": "cLnIvE42HiVd",
        "colab_type": "text"
      },
      "source": [
        "## Las expresiones regulares \n",
        "son una serie de carácteres que forman un patrón, normalmente representativo de otro grupo de carácteres mayor, de tal forma que podemos comparar el patrón con otro conjunto de carácteres para ver las coincidencias"
      ]
    },
    {
      "cell_type": "code",
      "metadata": {
        "id": "kpHsO3YyHfpv",
        "colab_type": "code",
        "colab": {}
      },
      "source": [
        "import re\n",
        "\n",
        "patron = re.compile('a[3-5]+') "
      ],
      "execution_count": 1,
      "outputs": []
    },
    {
      "cell_type": "markdown",
      "metadata": {
        "id": "P1dE5p6hJZTu",
        "colab_type": "text"
      },
      "source": [
        "# Dfa que no acpeta la cadena 01"
      ]
    },
    {
      "cell_type": "code",
      "metadata": {
        "id": "23AFkSyVJujl",
        "colab_type": "code",
        "colab": {
          "base_uri": "https://localhost:8080/",
          "height": 104
        },
        "outputId": "4b08c0d0-ad0f-476d-80f5-043c1f313a63"
      },
      "source": [
        "def dfa_evaluate(alphabet, states, initial_state, accepting_states, transitions, str_test):\n",
        "  current_state = initial_state\n",
        "  \n",
        "  for char_index in range(len(str_test)):\n",
        "\n",
        "    try:\n",
        "      current_char = str_test[char_index]\n",
        "      next_state = transitions[(current_state, current_char)] \n",
        "      print (current_state, current_char, next_state)\n",
        "      current_state = next_state\n",
        "\n",
        "    except:\n",
        "      current_state = -1\n",
        "      break\n",
        "    \n",
        "  if current_state in accepting_states:\n",
        "    print (\"Pertenece a L(M)\")\n",
        "  else: \n",
        "    print (\"No pertenece a L(M)\")\n",
        "\n",
        "prueba = (\"q0\",\"1\")\n",
        "final = 'q0'\n",
        "#debe contener la subcadena 01\n",
        "dfa = {\n",
        "    'alphabet': {'0', '1'},\n",
        "    'states': {'q0', 'q1', 'q2','q3'},\n",
        "    'initial_state': 'q0',\n",
        "    'accepting_states': {''},\n",
        "    'transitions': {\n",
        "        prueba: final,\n",
        "        ('q0', '1'): 'q1',\n",
        "        ('q0', '0'): 'q1',\n",
        "        ('q1', '0'): 'q2',\n",
        "        ('q1', '1'): 'q2',\n",
        "        ('q2', '0'): 'q1',\n",
        "        ('q2', '1'): 'q3',\n",
        "        ('q3', '0'): 'q3',\n",
        "        ('q3', '1'): 'q3'      \n",
        "    }\n",
        "}\n",
        "\n",
        "alphabet = dfa['alphabet']\n",
        "states = dfa['states']\n",
        "initial_state = dfa['initial_state']\n",
        "accepting_states = dfa['accepting_states']\n",
        "transitions = dfa['transitions']\n",
        "\n",
        "str_test = \"1001\"\n",
        "\n",
        "dfa_evaluate(alphabet, states, initial_state, accepting_states, transitions, str_test)"
      ],
      "execution_count": 2,
      "outputs": [
        {
          "output_type": "stream",
          "text": [
            "q0 1 q1\n",
            "q1 0 q1\n",
            "q1 0 q1\n",
            "q1 1 q2\n",
            "No pertenece a L(M)\n"
          ],
          "name": "stdout"
        }
      ]
    }
  ]
}