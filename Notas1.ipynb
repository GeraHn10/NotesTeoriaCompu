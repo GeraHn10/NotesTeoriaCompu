{
  "nbformat": 4,
  "nbformat_minor": 0,
  "metadata": {
    "colab": {
      "name": "Notas1.ipynb",
      "provenance": [],
      "authorship_tag": "ABX9TyMfcRa/s5/NzW1mk8pSRh/n",
      "include_colab_link": true
    },
    "kernelspec": {
      "name": "python3",
      "display_name": "Python 3"
    }
  },
  "cells": [
    {
      "cell_type": "markdown",
      "metadata": {
        "id": "view-in-github",
        "colab_type": "text"
      },
      "source": [
        "<a href=\"https://colab.research.google.com/github/GeraHn10/NotesTeoriaCompu/blob/master/Notas1.ipynb\" target=\"_parent\"><img src=\"https://colab.research.google.com/assets/colab-badge.svg\" alt=\"Open In Colab\"/></a>"
      ]
    },
    {
      "cell_type": "markdown",
      "metadata": {
        "id": "HlJIWYECarmZ",
        "colab_type": "text"
      },
      "source": [
        "# **Teoria de Conjuntos**\n",
        "A es un conjunto de varios elementos a,b,c,d...\n"
      ]
    },
    {
      "cell_type": "code",
      "metadata": {
        "id": "SCAmjfNqaoRF",
        "colab_type": "code",
        "colab": {
          "base_uri": "https://localhost:8080/",
          "height": 35
        },
        "outputId": "930f0542-394e-4041-f4bd-b75c99be20ae"
      },
      "source": [
        "A= {1,2,3,4,5}\n",
        "a=1\n",
        "a in A"
      ],
      "execution_count": 2,
      "outputs": [
        {
          "output_type": "execute_result",
          "data": {
            "text/plain": [
              "True"
            ]
          },
          "metadata": {
            "tags": []
          },
          "execution_count": 2
        }
      ]
    },
    {
      "cell_type": "markdown",
      "metadata": {
        "id": "JLKnXJ6obult",
        "colab_type": "text"
      },
      "source": [
        "# Conjunto Potencia"
      ]
    },
    {
      "cell_type": "code",
      "metadata": {
        "id": "8bgjnA3mc4zj",
        "colab_type": "code",
        "colab": {}
      },
      "source": [
        "from itertools import chain, combinations\n",
        "\n",
        "def powerset(iterable):\n",
        "    s = list(iterable)\n",
        "    return chain.from_iterable(combinations(s, r) for r in range(len(s)+1))"
      ],
      "execution_count": 15,
      "outputs": []
    },
    {
      "cell_type": "markdown",
      "metadata": {
        "id": "ysGTY-j0dmmK",
        "colab_type": "text"
      },
      "source": [
        "# Operaciones Con conjuntos\n",
        "Union \n",
        "Interseccion\n",
        "Disjuncion"
      ]
    },
    {
      "cell_type": "code",
      "metadata": {
        "colab_type": "code",
        "id": "4kiQy4ZId_rn",
        "colab": {
          "base_uri": "https://localhost:8080/",
          "height": 35
        },
        "outputId": "704f3b3c-8066-4d61-f3d8-65af7bbd2eea"
      },
      "source": [
        "#Union\n",
        "A= {1,2,3,4,5}\n",
        "B= {6,7,8,9,1}\n",
        "A|B\n",
        "\n",
        "#iNTERSECCION\n",
        "A&B\n",
        "\n",
        "#Diferencia\n",
        "A-B"
      ],
      "execution_count": 7,
      "outputs": [
        {
          "output_type": "execute_result",
          "data": {
            "text/plain": [
              "{2, 3, 4, 5}"
            ]
          },
          "metadata": {
            "tags": []
          },
          "execution_count": 7
        }
      ]
    },
    {
      "cell_type": "markdown",
      "metadata": {
        "id": "EUOuWPgbeqEe",
        "colab_type": "text"
      },
      "source": [
        "# Alfabetos Palabras y Lenguajes\n"
      ]
    },
    {
      "cell_type": "code",
      "metadata": {
        "id": "uqCKpdYCjntB",
        "colab_type": "code",
        "colab": {}
      },
      "source": [
        "Alfabeto ={'h','o','l','a'}\n",
        "Cadena = \"hola\"\n",
        "Lenguajes = {\"la\",\"ola\"}\n"
      ],
      "execution_count": 9,
      "outputs": []
    },
    {
      "cell_type": "markdown",
      "metadata": {
        "id": "143HMDURk3Gy",
        "colab_type": "text"
      },
      "source": [
        "#Operaciones con lenguajes\n",
        "UNION\n",
        "INTERSECION\n",
        "sUBLENGUAJES\n",
        "CONCATENACION"
      ]
    },
    {
      "cell_type": "code",
      "metadata": {
        "id": "jrfRiMmtlh8a",
        "colab_type": "code",
        "colab": {}
      },
      "source": [
        "#Para la Union Interseccion y Diferencias de lenguajes podemos usar los mismos usados anteriormente \n",
        "#lenguajes\n",
        "Lenguajes = {\"la\",\"ola\"}\n",
        "Lenguajes = {\"ho\",\"l\"}\n",
        "#sublenguajes\n",
        "sublenguajes = {\"lllll\",\"aaaaaa\"}\n",
        "#concatenacion \n",
        "concatenacion = {\"hola\",\"lola\"}\n"
      ],
      "execution_count": null,
      "outputs": []
    },
    {
      "cell_type": "markdown",
      "metadata": {
        "id": "HcEE8c_2rKr5",
        "colab_type": "text"
      },
      "source": [
        "# POTENCIA Y CERRADURA (lENGUAJES)\n"
      ]
    },
    {
      "cell_type": "code",
      "metadata": {
        "id": "GuI6Z8YavaxN",
        "colab_type": "code",
        "colab": {
          "base_uri": "https://localhost:8080/",
          "height": 35
        },
        "outputId": "e28200a0-d3b1-4c7d-9d09-7f274aff124f"
      },
      "source": [
        "from itertools import permutations\n",
        "lenguaje = {10,20,30,40}\n",
        "cerradura = permutations(lenguaje)\n",
        "\n",
        "print(cerradura)"
      ],
      "execution_count": 12,
      "outputs": [
        {
          "output_type": "stream",
          "text": [
            "<itertools.permutations object at 0x7fb1b332dba0>\n"
          ],
          "name": "stdout"
        }
      ]
    }
  ]
}